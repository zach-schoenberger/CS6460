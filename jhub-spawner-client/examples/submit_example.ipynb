{
  "cells": [
    {
      "cell_type": "code",
      "execution_count": null,
      "metadata": {
        "collapsed": true,
        "pycharm": {}
      },
      "outputs": [],
      "source": "import submitter\n"
    },
    {
      "cell_type": "markdown",
      "source": "Now we submit a script that we want the grader/tester to run. \nThe boolean tells the spawner service if it should force the run. Otherwise it will return the results of the previous run.\nThis is handled by creating a hash of the .py file that is created from the .ipynb, and storing the results using the hash \nas the key.",
      "metadata": {
        "pycharm": {
          "metadata": false
        }
      }
    },
    {
      "cell_type": "code",
      "execution_count": null,
      "outputs": [],
      "source": "submitter.submit(\"./project.ipynb\", \"assignment1\", True)\n\n\n",
      "metadata": {
        "pycharm": {
          "metadata": false,
          "name": "#%%\n"
        }
      }
    },
    {
      "cell_type": "markdown",
      "source": "The above should return the stdout of the file submitted. The output should look like:\n```\nhttp://jupyter-spawner.jhub.svc.cluster.local:80/notebook/run?uid\u003ddd\u0026adr\u003d10.44.4.70\u0026prt\u003d9999\u0026frc\u003dTrue\nserving at port  9999\n10.44.2.67 - - [07/Apr/2019 20:12:34] \"POST / HTTP/1.1\" 200 -\nhello world\n```\nThe response returned by the function is a dictionary that was returned by the spawner service.\n\n",
      "metadata": {
        "pycharm": {
          "metadata": false
        }
      }
    }
  ],
  "metadata": {
    "language_info": {
      "codemirror_mode": {
        "name": "ipython",
        "version": 2
      },
      "file_extension": ".py",
      "mimetype": "text/x-python",
      "name": "python",
      "nbconvert_exporter": "python",
      "pygments_lexer": "ipython2",
      "version": "2.7.6"
    },
    "kernelspec": {
      "name": "python3",
      "language": "python",
      "display_name": "Python 3"
    }
  },
  "nbformat": 4,
  "nbformat_minor": 0
}